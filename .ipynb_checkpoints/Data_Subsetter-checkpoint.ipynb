{
 "cells": [
  {
   "cell_type": "markdown",
   "metadata": {},
   "source": [
    "## Dependencies"
   ]
  },
  {
   "cell_type": "code",
   "execution_count": 1,
   "metadata": {},
   "outputs": [],
   "source": [
    "import psycopg2"
   ]
  },
  {
   "cell_type": "code",
   "execution_count": 2,
   "metadata": {},
   "outputs": [],
   "source": [
    "import pandas as pd"
   ]
  },
  {
   "cell_type": "markdown",
   "metadata": {},
   "source": [
    "## Connecting to Postgres DB"
   ]
  },
  {
   "cell_type": "code",
   "execution_count": 36,
   "metadata": {},
   "outputs": [],
   "source": [
    "dbname = 'aact'\n",
    "user = 'postgres'\n",
    "password = 'lqt38be'\n",
    "host = 'localhost'\n",
    "\n",
    "conn = psycopg2.connect(dbname=dbname, user=user, password=password, host=host)\n",
    "curs = conn.cursor()"
   ]
  },
  {
   "cell_type": "code",
   "execution_count": 37,
   "metadata": {},
   "outputs": [
    {
     "data": {
      "text/plain": [
       "[(309078,)]"
      ]
     },
     "execution_count": 37,
     "metadata": {},
     "output_type": "execute_result"
    }
   ],
   "source": [
    "# Verifying Connection\n",
    "query = \"\"\"SELECT COUNT(*) \n",
    "FROM ctgov.studies;\n",
    "\"\"\"\n",
    "curs.execute(query)\n",
    "curs.fetchall()"
   ]
  },
  {
   "cell_type": "markdown",
   "metadata": {},
   "source": [
    "# Subsetting Studies Table to only Active Trials"
   ]
  },
  {
   "cell_type": "code",
   "execution_count": 38,
   "metadata": {},
   "outputs": [
    {
     "data": {
      "text/plain": [
       "(309078, 64)"
      ]
     },
     "execution_count": 38,
     "metadata": {},
     "output_type": "execute_result"
    }
   ],
   "source": [
    "query = 'SELECT * FROM ctgov.studies'\n",
    "studies = pd.read_sql(sql=query, con=conn)\n",
    "studies.shape"
   ]
  },
  {
   "cell_type": "code",
   "execution_count": 39,
   "metadata": {},
   "outputs": [
    {
     "data": {
      "text/plain": [
       "(309078, 8)"
      ]
     },
     "execution_count": 39,
     "metadata": {},
     "output_type": "execute_result"
    }
   ],
   "source": [
    "# Selecting only relevant columns\n",
    "study_cols = ['nct_id', 'start_date','completion_date',\n",
    "              'study_type','overall_status','brief_title','phase','source']\n",
    "studies = studies[study_cols]\n",
    "studies.shape"
   ]
  },
  {
   "cell_type": "code",
   "execution_count": 40,
   "metadata": {},
   "outputs": [],
   "source": [
    "active_statuses = ['Recruiting','Active, not recruiting','Not yet recruiting','Available','Approved for marketing']\n",
    "active_studies = studies[ studies['overall_status'].isin(active_statuses) ]"
   ]
  },
  {
   "cell_type": "code",
   "execution_count": 41,
   "metadata": {},
   "outputs": [
    {
     "data": {
      "text/plain": [
       "(81666, 8)"
      ]
     },
     "execution_count": 41,
     "metadata": {},
     "output_type": "execute_result"
    }
   ],
   "source": [
    "active_studies.shape"
   ]
  },
  {
   "cell_type": "code",
   "execution_count": 42,
   "metadata": {},
   "outputs": [
    {
     "data": {
      "text/html": [
       "<div>\n",
       "<style scoped>\n",
       "    .dataframe tbody tr th:only-of-type {\n",
       "        vertical-align: middle;\n",
       "    }\n",
       "\n",
       "    .dataframe tbody tr th {\n",
       "        vertical-align: top;\n",
       "    }\n",
       "\n",
       "    .dataframe thead th {\n",
       "        text-align: right;\n",
       "    }\n",
       "</style>\n",
       "<table border=\"1\" class=\"dataframe\">\n",
       "  <thead>\n",
       "    <tr style=\"text-align: right;\">\n",
       "      <th></th>\n",
       "      <th>nct_id</th>\n",
       "      <th>start_date</th>\n",
       "      <th>completion_date</th>\n",
       "      <th>study_type</th>\n",
       "      <th>overall_status</th>\n",
       "      <th>brief_title</th>\n",
       "      <th>phase</th>\n",
       "      <th>source</th>\n",
       "    </tr>\n",
       "  </thead>\n",
       "  <tbody>\n",
       "    <tr>\n",
       "      <th>2</th>\n",
       "      <td>NCT03970681</td>\n",
       "      <td>2019-05-29</td>\n",
       "      <td>2020-05-31</td>\n",
       "      <td>Observational</td>\n",
       "      <td>Recruiting</td>\n",
       "      <td>Clinical and Radiological Evaluation of Acoust...</td>\n",
       "      <td>None</td>\n",
       "      <td>University Hospital, Strasbourg, France</td>\n",
       "    </tr>\n",
       "    <tr>\n",
       "      <th>3</th>\n",
       "      <td>NCT03940560</td>\n",
       "      <td>2018-07-01</td>\n",
       "      <td>2020-12-31</td>\n",
       "      <td>Interventional</td>\n",
       "      <td>Recruiting</td>\n",
       "      <td>Mesh Suture for Internal Load Bearing Closures</td>\n",
       "      <td>N/A</td>\n",
       "      <td>Wigmore Clinic</td>\n",
       "    </tr>\n",
       "    <tr>\n",
       "      <th>4</th>\n",
       "      <td>NCT03970746</td>\n",
       "      <td>2019-05-31</td>\n",
       "      <td>2022-08-31</td>\n",
       "      <td>Interventional</td>\n",
       "      <td>Not yet recruiting</td>\n",
       "      <td>Safety, Immunogenicity and Preliminary Clinica...</td>\n",
       "      <td>Phase 1/Phase 2</td>\n",
       "      <td>PDC*line Pharma SAS</td>\n",
       "    </tr>\n",
       "    <tr>\n",
       "      <th>5</th>\n",
       "      <td>NCT03970720</td>\n",
       "      <td>2019-05-28</td>\n",
       "      <td>2023-04-30</td>\n",
       "      <td>Interventional</td>\n",
       "      <td>Recruiting</td>\n",
       "      <td>Restoration of Hypoglycemia Awareness With Met...</td>\n",
       "      <td>Phase 2</td>\n",
       "      <td>University of Utah</td>\n",
       "    </tr>\n",
       "    <tr>\n",
       "      <th>6</th>\n",
       "      <td>NCT03970707</td>\n",
       "      <td>2019-06-24</td>\n",
       "      <td>2019-08-02</td>\n",
       "      <td>Interventional</td>\n",
       "      <td>Recruiting</td>\n",
       "      <td>Recovery Kinetics After the Use of Small Sided...</td>\n",
       "      <td>N/A</td>\n",
       "      <td>University of Thessaly</td>\n",
       "    </tr>\n",
       "  </tbody>\n",
       "</table>\n",
       "</div>"
      ],
      "text/plain": [
       "        nct_id  start_date completion_date      study_type  \\\n",
       "2  NCT03970681  2019-05-29      2020-05-31   Observational   \n",
       "3  NCT03940560  2018-07-01      2020-12-31  Interventional   \n",
       "4  NCT03970746  2019-05-31      2022-08-31  Interventional   \n",
       "5  NCT03970720  2019-05-28      2023-04-30  Interventional   \n",
       "6  NCT03970707  2019-06-24      2019-08-02  Interventional   \n",
       "\n",
       "       overall_status                                        brief_title  \\\n",
       "2          Recruiting  Clinical and Radiological Evaluation of Acoust...   \n",
       "3          Recruiting     Mesh Suture for Internal Load Bearing Closures   \n",
       "4  Not yet recruiting  Safety, Immunogenicity and Preliminary Clinica...   \n",
       "5          Recruiting  Restoration of Hypoglycemia Awareness With Met...   \n",
       "6          Recruiting  Recovery Kinetics After the Use of Small Sided...   \n",
       "\n",
       "             phase                                   source  \n",
       "2             None  University Hospital, Strasbourg, France  \n",
       "3              N/A                           Wigmore Clinic  \n",
       "4  Phase 1/Phase 2                      PDC*line Pharma SAS  \n",
       "5          Phase 2                       University of Utah  \n",
       "6              N/A                   University of Thessaly  "
      ]
     },
     "execution_count": 42,
     "metadata": {},
     "output_type": "execute_result"
    }
   ],
   "source": [
    "active_studies.head()"
   ]
  },
  {
   "cell_type": "code",
   "execution_count": 43,
   "metadata": {},
   "outputs": [],
   "source": [
    "keys = active_studies['nct_id']"
   ]
  },
  {
   "cell_type": "code",
   "execution_count": 44,
   "metadata": {},
   "outputs": [],
   "source": [
    "active_studies.to_json('Subsetted_Data/studies.json', orient='index')"
   ]
  },
  {
   "cell_type": "markdown",
   "metadata": {},
   "source": [
    "## Subsetting Facilities Table"
   ]
  },
  {
   "cell_type": "code",
   "execution_count": 45,
   "metadata": {},
   "outputs": [
    {
     "data": {
      "text/plain": [
       "(2173072, 8)"
      ]
     },
     "execution_count": 45,
     "metadata": {},
     "output_type": "execute_result"
    }
   ],
   "source": [
    "query = 'SELECT * FROM ctgov.facilities'\n",
    "facilities = pd.read_sql(sql=query, con=conn)\n",
    "facilities.shape"
   ]
  },
  {
   "cell_type": "code",
   "execution_count": 46,
   "metadata": {},
   "outputs": [],
   "source": [
    "facil_cols = ['id', 'nct_id', 'name', 'city', 'state', 'country']\n",
    "facilities = facilities[ facil_cols ]"
   ]
  },
  {
   "cell_type": "code",
   "execution_count": 47,
   "metadata": {},
   "outputs": [],
   "source": [
    "active_facilities = facilities[ facilities['nct_id'].isin(keys) ]"
   ]
  },
  {
   "cell_type": "code",
   "execution_count": 48,
   "metadata": {},
   "outputs": [
    {
     "data": {
      "text/plain": [
       "(669308, 6)"
      ]
     },
     "execution_count": 48,
     "metadata": {},
     "output_type": "execute_result"
    }
   ],
   "source": [
    "active_facilities.shape"
   ]
  },
  {
   "cell_type": "code",
   "execution_count": 49,
   "metadata": {},
   "outputs": [
    {
     "data": {
      "text/html": [
       "<div>\n",
       "<style scoped>\n",
       "    .dataframe tbody tr th:only-of-type {\n",
       "        vertical-align: middle;\n",
       "    }\n",
       "\n",
       "    .dataframe tbody tr th {\n",
       "        vertical-align: top;\n",
       "    }\n",
       "\n",
       "    .dataframe thead th {\n",
       "        text-align: right;\n",
       "    }\n",
       "</style>\n",
       "<table border=\"1\" class=\"dataframe\">\n",
       "  <thead>\n",
       "    <tr style=\"text-align: right;\">\n",
       "      <th></th>\n",
       "      <th>id</th>\n",
       "      <th>nct_id</th>\n",
       "      <th>name</th>\n",
       "      <th>city</th>\n",
       "      <th>state</th>\n",
       "      <th>country</th>\n",
       "    </tr>\n",
       "  </thead>\n",
       "  <tbody>\n",
       "    <tr>\n",
       "      <th>0</th>\n",
       "      <td>33772397</td>\n",
       "      <td>NCT03967340</td>\n",
       "      <td>CHU de Nantes</td>\n",
       "      <td>Nantes</td>\n",
       "      <td></td>\n",
       "      <td>France</td>\n",
       "    </tr>\n",
       "    <tr>\n",
       "      <th>1</th>\n",
       "      <td>36878294</td>\n",
       "      <td>NCT03993613</td>\n",
       "      <td>Academic Medical Centre</td>\n",
       "      <td>Amsterdam-Zuidoost</td>\n",
       "      <td>Noord-Holland</td>\n",
       "      <td>Netherlands</td>\n",
       "    </tr>\n",
       "    <tr>\n",
       "      <th>2</th>\n",
       "      <td>36878295</td>\n",
       "      <td>NCT03993600</td>\n",
       "      <td>cliniques universitaires Saint-Luc</td>\n",
       "      <td>Bruxelles</td>\n",
       "      <td></td>\n",
       "      <td>Belgium</td>\n",
       "    </tr>\n",
       "    <tr>\n",
       "      <th>3</th>\n",
       "      <td>36878296</td>\n",
       "      <td>NCT03993574</td>\n",
       "      <td>University of Texas Medical Branch</td>\n",
       "      <td>Galveston</td>\n",
       "      <td>Texas</td>\n",
       "      <td>United States</td>\n",
       "    </tr>\n",
       "    <tr>\n",
       "      <th>4</th>\n",
       "      <td>36878297</td>\n",
       "      <td>NCT03993561</td>\n",
       "      <td>London Health Sciences Centre</td>\n",
       "      <td>London</td>\n",
       "      <td>Ontario</td>\n",
       "      <td>Canada</td>\n",
       "    </tr>\n",
       "  </tbody>\n",
       "</table>\n",
       "</div>"
      ],
      "text/plain": [
       "         id       nct_id                                name  \\\n",
       "0  33772397  NCT03967340                       CHU de Nantes   \n",
       "1  36878294  NCT03993613             Academic Medical Centre   \n",
       "2  36878295  NCT03993600  cliniques universitaires Saint-Luc   \n",
       "3  36878296  NCT03993574  University of Texas Medical Branch   \n",
       "4  36878297  NCT03993561       London Health Sciences Centre   \n",
       "\n",
       "                 city          state        country  \n",
       "0              Nantes                        France  \n",
       "1  Amsterdam-Zuidoost  Noord-Holland    Netherlands  \n",
       "2           Bruxelles                       Belgium  \n",
       "3           Galveston          Texas  United States  \n",
       "4              London        Ontario         Canada  "
      ]
     },
     "execution_count": 49,
     "metadata": {},
     "output_type": "execute_result"
    }
   ],
   "source": [
    "active_facilities.head()"
   ]
  },
  {
   "cell_type": "code",
   "execution_count": 50,
   "metadata": {},
   "outputs": [],
   "source": [
    "active_facilities.to_json('Subsetted_Data/facilities.json', orient='index')"
   ]
  },
  {
   "cell_type": "markdown",
   "metadata": {},
   "source": [
    "# Subsetting Contacts Table"
   ]
  },
  {
   "cell_type": "code",
   "execution_count": 51,
   "metadata": {},
   "outputs": [
    {
     "data": {
      "text/plain": [
       "(120251, 6)"
      ]
     },
     "execution_count": 51,
     "metadata": {},
     "output_type": "execute_result"
    }
   ],
   "source": [
    "query = 'SELECT * FROM ctgov.central_contacts'\n",
    "contacts = pd.read_sql(sql=query, con=conn)\n",
    "contacts.shape"
   ]
  },
  {
   "cell_type": "code",
   "execution_count": 52,
   "metadata": {},
   "outputs": [],
   "source": [
    "contact_cols = ['id', 'nct_id','contact_type','name','phone','email']\n",
    "contacts = contacts[ contact_cols ]"
   ]
  },
  {
   "cell_type": "code",
   "execution_count": 53,
   "metadata": {},
   "outputs": [
    {
     "data": {
      "text/plain": [
       "(90465, 6)"
      ]
     },
     "execution_count": 53,
     "metadata": {},
     "output_type": "execute_result"
    }
   ],
   "source": [
    "active_contacts = contacts[ contacts['nct_id'].isin(keys) ]\n",
    "active_contacts.shape"
   ]
  },
  {
   "cell_type": "code",
   "execution_count": 54,
   "metadata": {},
   "outputs": [],
   "source": [
    "active_contacts.to_json('Subsetted_Data/contacts.json', orient='index')"
   ]
  },
  {
   "cell_type": "markdown",
   "metadata": {},
   "source": [
    "## Subsetting Sponsors Table"
   ]
  },
  {
   "cell_type": "code",
   "execution_count": 55,
   "metadata": {},
   "outputs": [
    {
     "data": {
      "text/plain": [
       "(490861, 5)"
      ]
     },
     "execution_count": 55,
     "metadata": {},
     "output_type": "execute_result"
    }
   ],
   "source": [
    "query = 'SELECT * FROM ctgov.sponsors'\n",
    "sponsors = pd.read_sql(sql=query, con=conn)\n",
    "sponsors.shape"
   ]
  },
  {
   "cell_type": "code",
   "execution_count": 56,
   "metadata": {},
   "outputs": [
    {
     "data": {
      "text/plain": [
       "(309078, 5)"
      ]
     },
     "execution_count": 56,
     "metadata": {},
     "output_type": "execute_result"
    }
   ],
   "source": [
    "# Subset to only include lead sponsors\n",
    "sponsors = sponsors[ sponsors['lead_or_collaborator'] == 'lead']\n",
    "sponsors.shape"
   ]
  },
  {
   "cell_type": "code",
   "execution_count": 57,
   "metadata": {},
   "outputs": [],
   "source": [
    "sponsor_cols = ['id', 'nct_id', 'name']\n",
    "sponsors = sponsors[ sponsor_cols ]"
   ]
  },
  {
   "cell_type": "code",
   "execution_count": 58,
   "metadata": {},
   "outputs": [
    {
     "data": {
      "text/plain": [
       "(81666, 3)"
      ]
     },
     "execution_count": 58,
     "metadata": {},
     "output_type": "execute_result"
    }
   ],
   "source": [
    "active_sponsors = sponsors[ sponsors['nct_id'].isin(keys) ]\n",
    "active_sponsors.shape"
   ]
  },
  {
   "cell_type": "code",
   "execution_count": 59,
   "metadata": {},
   "outputs": [],
   "source": [
    "active_sponsors.to_json('Subsetted_Data/sponsors.json', orient='index')"
   ]
  },
  {
   "cell_type": "markdown",
   "metadata": {},
   "source": [
    "## Subsetting the eligibilities Table"
   ]
  },
  {
   "cell_type": "code",
   "execution_count": 60,
   "metadata": {},
   "outputs": [
    {
     "data": {
      "text/plain": [
       "(309078, 11)"
      ]
     },
     "execution_count": 60,
     "metadata": {},
     "output_type": "execute_result"
    }
   ],
   "source": [
    "query = 'SELECT * FROM ctgov.eligibilities'\n",
    "eligble = pd.read_sql(sql=query, con=conn)\n",
    "eligble.shape"
   ]
  },
  {
   "cell_type": "code",
   "execution_count": 61,
   "metadata": {},
   "outputs": [
    {
     "data": {
      "text/plain": [
       "(309078, 6)"
      ]
     },
     "execution_count": 61,
     "metadata": {},
     "output_type": "execute_result"
    }
   ],
   "source": [
    "eligb_cols = ['id', 'nct_id', 'gender', 'minimum_age','maximum_age','healthy_volunteers']\n",
    "eligble = eligble[ eligb_cols ]\n",
    "eligble.shape"
   ]
  },
  {
   "cell_type": "code",
   "execution_count": 62,
   "metadata": {},
   "outputs": [
    {
     "data": {
      "text/plain": [
       "(81666, 6)"
      ]
     },
     "execution_count": 62,
     "metadata": {},
     "output_type": "execute_result"
    }
   ],
   "source": [
    "active_eligble = eligble[ eligble['nct_id'].isin(keys) ]\n",
    "active_eligble.shape"
   ]
  },
  {
   "cell_type": "code",
   "execution_count": 63,
   "metadata": {},
   "outputs": [],
   "source": [
    "active_eligble.to_json('Subsetted_Data/eligibilities.json', orient='index')"
   ]
  },
  {
   "cell_type": "markdown",
   "metadata": {},
   "source": [
    "## Subsetting the Conditions Table"
   ]
  },
  {
   "cell_type": "code",
   "execution_count": 64,
   "metadata": {},
   "outputs": [
    {
     "data": {
      "text/plain": [
       "(510918, 4)"
      ]
     },
     "execution_count": 64,
     "metadata": {},
     "output_type": "execute_result"
    }
   ],
   "source": [
    "query = 'SELECT * FROM ctgov.conditions'\n",
    "conditions = pd.read_sql(sql=query, con=conn)\n",
    "conditions.shape"
   ]
  },
  {
   "cell_type": "code",
   "execution_count": 65,
   "metadata": {},
   "outputs": [
    {
     "data": {
      "text/plain": [
       "(510918, 3)"
      ]
     },
     "execution_count": 65,
     "metadata": {},
     "output_type": "execute_result"
    }
   ],
   "source": [
    "condition_cols = ['id', 'nct_id', 'name']\n",
    "conditions = conditions[ condition_cols ]\n",
    "conditions.shape"
   ]
  },
  {
   "cell_type": "code",
   "execution_count": 66,
   "metadata": {},
   "outputs": [
    {
     "data": {
      "text/plain": [
       "(154517, 3)"
      ]
     },
     "execution_count": 66,
     "metadata": {},
     "output_type": "execute_result"
    }
   ],
   "source": [
    "active_conditions = conditions[ conditions['nct_id'].isin(keys) ]\n",
    "active_conditions.shape"
   ]
  },
  {
   "cell_type": "code",
   "execution_count": 67,
   "metadata": {},
   "outputs": [],
   "source": [
    "active_conditions.to_json('Subsetted_Data/conditions.json', orient='index')"
   ]
  },
  {
   "cell_type": "markdown",
   "metadata": {},
   "source": [
    "## Subsetting Brief Summaries"
   ]
  },
  {
   "cell_type": "code",
   "execution_count": 68,
   "metadata": {},
   "outputs": [
    {
     "data": {
      "text/plain": [
       "(308277, 3)"
      ]
     },
     "execution_count": 68,
     "metadata": {},
     "output_type": "execute_result"
    }
   ],
   "source": [
    "query = 'SELECT * FROM ctgov.brief_summaries'\n",
    "summaries = pd.read_sql(sql=query, con=conn)\n",
    "summaries.shape"
   ]
  },
  {
   "cell_type": "code",
   "execution_count": 69,
   "metadata": {},
   "outputs": [
    {
     "data": {
      "text/plain": [
       "(81666, 3)"
      ]
     },
     "execution_count": 69,
     "metadata": {},
     "output_type": "execute_result"
    }
   ],
   "source": [
    "active_summaries = summaries[ summaries['nct_id'].isin(keys) ]\n",
    "active_summaries.shape"
   ]
  },
  {
   "cell_type": "code",
   "execution_count": 70,
   "metadata": {},
   "outputs": [],
   "source": [
    "active_summaries.to_json('Subsetted_Data/summaries.json', orient='index')"
   ]
  },
  {
   "cell_type": "code",
   "execution_count": null,
   "metadata": {},
   "outputs": [],
   "source": []
  }
 ],
 "metadata": {
  "kernelspec": {
   "display_name": "Python 3",
   "language": "python",
   "name": "python3"
  },
  "language_info": {
   "codemirror_mode": {
    "name": "ipython",
    "version": 3
   },
   "file_extension": ".py",
   "mimetype": "text/x-python",
   "name": "python",
   "nbconvert_exporter": "python",
   "pygments_lexer": "ipython3",
   "version": "3.6.8"
  }
 },
 "nbformat": 4,
 "nbformat_minor": 2
}
